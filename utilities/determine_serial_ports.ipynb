{
 "cells": [
  {
   "cell_type": "markdown",
   "metadata": {},
   "source": [
    " Search for comm ports corresponding to the device\n",
    "The following lines of code can be used to search for and identify the comm ports corresponding to the mmWave Radars. Additionally, note the following when dealing with a linux device:\n",
    "1. to locate the serial ports, use the commnad: \"ls /dev/ttyACM*\" to find the serial ports\n",
    "2. if there is an error saying that access is denied, use the command \"sudo usermod -a -G dialout $USER\""
   ]
  },
  {
   "cell_type": "code",
   "execution_count": 6,
   "metadata": {},
   "outputs": [
    {
     "name": "stdout",
     "output_type": "stream",
     "text": [
      "['/dev/ttyS4', '/dev/ttyACM1', '/dev/ttyACM0']\n"
     ]
    }
   ],
   "source": [
    "import serial.tools.list_ports;\n",
    "serial_ports = [comport.device for comport in serial.tools.list_ports.comports()]\n",
    "print([comport.device for comport in serial.tools.list_ports.comports()])"
   ]
  }
 ],
 "metadata": {
  "kernelspec": {
   "display_name": "TI_Radar_GUI",
   "language": "python",
   "name": "python3"
  },
  "language_info": {
   "codemirror_mode": {
    "name": "ipython",
    "version": 3
   },
   "file_extension": ".py",
   "mimetype": "text/x-python",
   "name": "python",
   "nbconvert_exporter": "python",
   "pygments_lexer": "ipython3",
   "version": "3.11.5"
  },
  "orig_nbformat": 4
 },
 "nbformat": 4,
 "nbformat_minor": 2
}
